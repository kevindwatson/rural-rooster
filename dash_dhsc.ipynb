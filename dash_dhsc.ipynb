{
 "cells": [
  {
   "cell_type": "markdown",
   "metadata": {},
   "source": [
    "First import required packages"
   ]
  },
  {
   "cell_type": "code",
   "execution_count": null,
   "metadata": {},
   "outputs": [],
   "source": [
    "import pandas as pd\n",
    "import requests as rq\n",
    "import subprocess as sp\n",
    "import numpy as np\n",
    "import panel as pn\n",
    "pn.extension('tabulator')\n",
    "\n",
    "import hvplot.pandas\n",
    "\n",
    "#pip install ipykernel\n",
    "#pip install jupyter_bokeh\n",
    "#pip install nbconvert\n",
    "#https://panel.holoviz.org/api/panel.widgets.html"
   ]
  },
  {
   "cell_type": "markdown",
   "metadata": {},
   "source": [
    "Next get data from ONS\n",
    "Get link from: https://www.ons.gov.uk/peoplepopulationandcommunity/birthsdeathsandmarriages/deaths/datasets/deathsregisteredinenglandandwalesseriesdrreferencetables\n",
    "xls = pd.ExcelFile('https://www.ons.gov.uk/file?uri=/peoplepopulationandcommunity/birthsdeathsandmarriages/deaths/datasets/deathsregisteredinenglandandwalesseriesdrreferencetables/2022/dr2022corrected.xlsx')\n",
    "\n",
    "The url doesn't accept \"non-browser\" requests. The default header of Python requests is 'User-Agent': 'python-requests/2.13.0', need to pass different headers as an argument\n",
    "https://stackoverflow.com/questions/59297759/python-requests-module-to-download-an-excel-file-from-a-download-link-which-po"
   ]
  },
  {
   "cell_type": "code",
   "execution_count": null,
   "metadata": {},
   "outputs": [],
   "source": [
    "headers = {'User-Agent': 'Mozilla/5.0 (Windows NT 6.1; WOW64) AppleWebKit/537.36 (KHTML, like Gecko) Chrome/56.0.2924.76 Safari/537.36'}\n",
    "response = requests.get('https://www.ons.gov.uk/file?uri=/peoplepopulationandcommunity/birthsdeathsandmarriages/deaths/datasets/deathsregisteredinenglandandwalesseriesdrreferencetables/2022/dr2022corrected.xlsx', headers=headers, verify=False)\n",
    "with open(\"DeathsData.xlsx\", 'wb') as f:\n",
    "    f.write(response.content)\n",
    "\n",
    "# Bring in a tab of the xlsx as a data frame\n",
    "df = pd.read_excel('DeathsPub.xlsx', sheet_name='2b', skiprows=4)\n",
    "print(df)"
   ]
  },
  {
   "cell_type": "markdown",
   "metadata": {},
   "source": [
    "Next get data from the Lake - note this will only work if you are on the network and have read access to the table and views in the query. Changes to the query can be performed by editing 'GetLakeDeaths.SQL'. Specify the path to your batch file and run the batch file using subprocess."
   ]
  },
  {
   "cell_type": "code",
   "execution_count": null,
   "metadata": {},
   "outputs": [],
   "source": [
    "batch_file_path = 'GetLakeDeaths.bat'\n",
    "subprocess.call([batch_file_path])"
   ]
  },
  {
   "cell_type": "markdown",
   "metadata": {},
   "source": [
    "Join the datasets together"
   ]
  },
  {
   "cell_type": "code",
   "execution_count": null,
   "metadata": {},
   "outputs": [],
   "source": []
  }
 ],
 "metadata": {
  "language_info": {
   "name": "python"
  }
 },
 "nbformat": 4,
 "nbformat_minor": 2
}
