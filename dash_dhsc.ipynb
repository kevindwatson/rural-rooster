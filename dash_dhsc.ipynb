{
 "cells": [
  {
   "cell_type": "markdown",
   "metadata": {},
   "source": [
    "First import required packages"
   ]
  },
  {
   "cell_type": "code",
   "execution_count": 4,
   "metadata": {},
   "outputs": [
    {
     "ename": "ModuleNotFoundError",
     "evalue": "No module named 'pandas'",
     "output_type": "error",
     "traceback": [
      "\u001b[1;31m---------------------------------------------------------------------------\u001b[0m",
      "\u001b[1;31mModuleNotFoundError\u001b[0m                       Traceback (most recent call last)",
      "Cell \u001b[1;32mIn[4], line 6\u001b[0m\n\u001b[0;32m      1\u001b[0m \u001b[38;5;66;03m# install pip -> open a terminal and type 'sudo apt install python3-pip'\u001b[39;00m\n\u001b[0;32m      2\u001b[0m \u001b[38;5;66;03m# install hv plot -> in the terminal type 'pip install hvplot'\u001b[39;00m\n\u001b[0;32m      3\u001b[0m \n\u001b[0;32m      4\u001b[0m \u001b[38;5;66;03m#pip install pandas\u001b[39;00m\n\u001b[1;32m----> 6\u001b[0m \u001b[38;5;28;01mimport\u001b[39;00m \u001b[38;5;21;01mpandas\u001b[39;00m \u001b[38;5;28;01mas\u001b[39;00m \u001b[38;5;21;01mpd\u001b[39;00m\n\u001b[0;32m      7\u001b[0m \u001b[38;5;28;01mimport\u001b[39;00m \u001b[38;5;21;01mrequests\u001b[39;00m\n\u001b[0;32m      8\u001b[0m \u001b[38;5;28;01mimport\u001b[39;00m \u001b[38;5;21;01msubprocess\u001b[39;00m \u001b[38;5;28;01mas\u001b[39;00m \u001b[38;5;21;01msp\u001b[39;00m\n",
      "\u001b[1;31mModuleNotFoundError\u001b[0m: No module named 'pandas'"
     ]
    }
   ],
   "source": [
    "# install pip -> open a terminal and type 'sudo apt install python3-pip'\n",
    "# install hv plot -> in the terminal type 'pip install hvplot'\n",
    "\n",
    "#pip install pandas\n",
    "\n",
    "import pandas as pd\n",
    "import requests\n",
    "import subprocess as sp\n",
    "import numpy as np\n",
    "import panel as pn\n",
    "pn.extension('tabulator')\n",
    "\n",
    "import hvplot.pandas\n",
    "\n",
    "#pip install ipykernel\n",
    "#pip install pandas\n",
    "#pip install jupyter_bokeh\n",
    "#pip install nbconvert\n",
    "#https://panel.holoviz.org/api/panel.widgets.html"
   ]
  },
  {
   "cell_type": "markdown",
   "metadata": {},
   "source": [
    "Next get data from ONS\n",
    "Get link from: https://www.ons.gov.uk/peoplepopulationandcommunity/birthsdeathsandmarriages/deaths/datasets/deathsregisteredinenglandandwalesseriesdrreferencetables\n",
    "xls = pd.ExcelFile('https://www.ons.gov.uk/file?uri=/peoplepopulationandcommunity/birthsdeathsandmarriages/deaths/datasets/deathsregisteredinenglandandwalesseriesdrreferencetables/2022/dr2022corrected.xlsx')\n",
    "\n",
    "The url doesn't accept \"non-browser\" requests. The default header of Python requests is 'User-Agent': 'python-requests/2.13.0', need to pass different headers as an argument\n",
    "https://stackoverflow.com/questions/59297759/python-requests-module-to-download-an-excel-file-from-a-download-link-which-po"
   ]
  },
  {
   "cell_type": "code",
   "execution_count": 40,
   "metadata": {},
   "outputs": [
    {
     "name": "stderr",
     "output_type": "stream",
     "text": [
      "c:\\ProgramData\\miniforge3\\lib\\site-packages\\urllib3\\connectionpool.py:1099: InsecureRequestWarning: Unverified HTTPS request is being made to host 'www.ons.gov.uk'. Adding certificate verification is strongly advised. See: https://urllib3.readthedocs.io/en/latest/advanced-usage.html#tls-warnings\n",
      "  warnings.warn(\n"
     ]
    },
    {
     "name": "stdout",
     "output_type": "stream",
     "text": [
      "     Area code                    Area of usual residence     Geography level  \\\n",
      "0    K04000001               ENGLAND, WALES AND ELSEWHERE             Country   \n",
      "1    E92000001                                    ENGLAND             Country   \n",
      "2    E12000001                                 NORTH EAST              Region   \n",
      "3    E06000047                              County Durham   Unitary Authority   \n",
      "4    E06000005                                 Darlington   Unitary Authority   \n",
      "..         ...                                        ...                 ...   \n",
      "377  W11000030  Cwm Taf Morgannwg University Health Board  Local Health Board   \n",
      "378  W11000025          Hywel Dda University Health Board  Local Health Board   \n",
      "379  W11000024                Powys Teaching Health Board  Local Health Board   \n",
      "380  W11000031        Swansea Bay University Health Board  Local Health Board   \n",
      "381  J99000001  Usual residence outside England and Wales                 [z]   \n",
      "\n",
      "     Persons\\n(Deaths) Persons\\n(ASMR) Persons\\n(Lower CL)  \\\n",
      "0               577160           978.6               976.1   \n",
      "1               540333           971.9               969.3   \n",
      "2                30168          1093.4                1081   \n",
      "3                 6218          1122.2              1094.1   \n",
      "4                 1273            1105              1044.1   \n",
      "..                 ...             ...                 ...   \n",
      "377               4793          1085.9                1055   \n",
      "378               5016          1041.8              1012.7   \n",
      "379               1717             926               881.5   \n",
      "380               4496          1104.1              1071.7   \n",
      "381               1133             [x]                 [x]   \n",
      "\n",
      "    Persons\\n(Upper CL)  Males\\n(Deaths) Males\\n(ASMR) Males\\n(Lower CL)  \\\n",
      "0                 981.2           292064        1150.5            1146.3   \n",
      "1                 974.5           273579        1144.1            1139.7   \n",
      "2                1105.8            15309        1285.9              1265   \n",
      "3                1150.4             3129        1299.7            1252.5   \n",
      "4                1165.9              658        1311.7            1209.9   \n",
      "..                  ...              ...           ...               ...   \n",
      "377              1116.9             2372          1214            1163.8   \n",
      "378                1071             2497        1194.3            1146.3   \n",
      "379               970.4              880        1097.5            1022.7   \n",
      "380              1136.5             2251        1287.1            1233.1   \n",
      "381                 [x]              639           [x]               [x]   \n",
      "\n",
      "    Males\\n(Upper CL)  Females\\n(Deaths) Females\\n(ASMR) Females\\n(Lower CL)  \\\n",
      "0              1154.8             285096           839.9               836.8   \n",
      "1              1148.4             266754           833.2                 830   \n",
      "2              1306.8              14859           942.3               927.1   \n",
      "3              1346.8               3089           987.7               952.7   \n",
      "4              1413.5                615           937.3               862.7   \n",
      "..                ...                ...             ...                 ...   \n",
      "377            1264.2               2421           973.5               934.6   \n",
      "378            1242.4               2519           916.4               880.2   \n",
      "379            1172.2                837           784.3               730.1   \n",
      "380            1341.2               2245           954.7               914.9   \n",
      "381               [x]                494             [x]                 [x]   \n",
      "\n",
      "    Females\\n(Upper CL)  \n",
      "0                   843  \n",
      "1                 836.3  \n",
      "2                 957.6  \n",
      "3                1022.7  \n",
      "4                1011.9  \n",
      "..                  ...  \n",
      "377              1012.4  \n",
      "378               952.6  \n",
      "379               838.6  \n",
      "380               994.6  \n",
      "381                 [x]  \n",
      "\n",
      "[382 rows x 15 columns]\n"
     ]
    }
   ],
   "source": [
    "headers = {'User-Agent': 'Mozilla/5.0 (Windows NT 6.1; WOW64) AppleWebKit/537.36 (KHTML, like Gecko) Chrome/56.0.2924.76 Safari/537.36'}\n",
    "response = requests.get('https://www.ons.gov.uk/file?uri=/peoplepopulationandcommunity/birthsdeathsandmarriages/deaths/datasets/deathsregisteredinenglandandwalesseriesdrreferencetables/2022/dr2022corrected.xlsx', headers=headers, verify=False)\n",
    "with open(\"DeathsData.xlsx\", 'wb') as f:\n",
    "    f.write(response.content)\n",
    "\n",
    "# Bring in a tab of the xlsx as a data frame\n",
    "dfpub = pd.read_excel('DeathsData.xlsx', sheet_name='2a', skiprows=4)\n",
    "print(dfpub)"
   ]
  },
  {
   "cell_type": "markdown",
   "metadata": {},
   "source": [
    "Next get data from the Lake - note this will only work if you are on the network and have read access to the table and views in the query. Changes to the query can be performed by editing 'GetLakeDeaths.SQL'. Specify the path to your batch file and run the batch file using subprocess."
   ]
  },
  {
   "cell_type": "code",
   "execution_count": 19,
   "metadata": {},
   "outputs": [
    {
     "data": {
      "text/plain": [
       "0"
      ]
     },
     "execution_count": 19,
     "metadata": {},
     "output_type": "execute_result"
    }
   ],
   "source": [
    "import subprocess as sp\n",
    "batch_file_path = 'GetLakeDeaths.bat'\n",
    "sp.call([batch_file_path])"
   ]
  },
  {
   "cell_type": "markdown",
   "metadata": {},
   "source": [
    "Read in the Lake data"
   ]
  },
  {
   "cell_type": "code",
   "execution_count": 35,
   "metadata": {},
   "outputs": [
    {
     "name": "stdout",
     "output_type": "stream",
     "text": [
      "       Dashboard  Period                                            GeoCode  \\\n",
      "0    -----------  ------  ----------------------------------------------...   \n",
      "1              1    2018                                                NaN   \n",
      "2              1    2018                                                NaN   \n",
      "3              1    2018                                                NaN   \n",
      "4              1    2018                                                NaN   \n",
      "..           ...     ...                                                ...   \n",
      "572            4    2017                                                NaN   \n",
      "573            4    2017                                                NaN   \n",
      "574            4    2018                                                NaN   \n",
      "575            4    2018                                                NaN   \n",
      "576         (575    rows                                          affected)   \n",
      "\n",
      "                                               GeoName  \\\n",
      "0    ----------------------------------------------...   \n",
      "1                                                  NaN   \n",
      "2                                                  NaN   \n",
      "3                                                  NaN   \n",
      "4                                                  NaN   \n",
      "..                                                 ...   \n",
      "572                                                NaN   \n",
      "573                                                NaN   \n",
      "574                                                NaN   \n",
      "575                                                NaN   \n",
      "576                                                NaN   \n",
      "\n",
      "                                          VariableType  \\\n",
      "0    ----------------------------------------------...   \n",
      "1                                               AgeSex   \n",
      "2                                               AgeSex   \n",
      "3                                               AgeSex   \n",
      "4                                               AgeSex   \n",
      "..                                                 ...   \n",
      "572                                              TREND   \n",
      "573                                              TREND   \n",
      "574                                              TREND   \n",
      "575                                              TREND   \n",
      "576                                                NaN   \n",
      "\n",
      "                                             VariableA  \\\n",
      "0    ----------------------------------------------...   \n",
      "1                                                    0   \n",
      "2                                                    0   \n",
      "3                                                    1   \n",
      "4                                                    1   \n",
      "..                                                 ...   \n",
      "572                                                  1   \n",
      "573                                                  2   \n",
      "574                                                  1   \n",
      "575                                                  2   \n",
      "576                                                NaN   \n",
      "\n",
      "                                             VariableB  \\\n",
      "0    ----------------------------------------------...   \n",
      "1                                                    1   \n",
      "2                                                    2   \n",
      "3                                                    1   \n",
      "4                                                    2   \n",
      "..                                                 ...   \n",
      "572                                                NaN   \n",
      "573                                                NaN   \n",
      "574                                                NaN   \n",
      "575                                                NaN   \n",
      "576                                                NaN   \n",
      "\n",
      "                        Value  \n",
      "0    ------------------------  \n",
      "1                      1440.0  \n",
      "2                      1131.0  \n",
      "3                        91.0  \n",
      "4                        81.0  \n",
      "..                        ...  \n",
      "572                  262678.0  \n",
      "573                  270575.0  \n",
      "574                  267960.0  \n",
      "575                  273629.0  \n",
      "576                       NaN  \n",
      "\n",
      "[577 rows x 8 columns]\n"
     ]
    }
   ],
   "source": [
    "# Read the text file into a DataFrame\n",
    "dflake = pd.read_csv('outputfile.txt', sep='\\s+')\n",
    "\n",
    "# Display the DataFrame\n",
    "print(dflake)"
   ]
  },
  {
   "cell_type": "markdown",
   "metadata": {},
   "source": [
    "Join the datasets together"
   ]
  },
  {
   "cell_type": "code",
   "execution_count": 41,
   "metadata": {},
   "outputs": [
    {
     "name": "stdout",
     "output_type": "stream",
     "text": [
      "       Dashboard  Period                                            GeoCode  \\\n",
      "0    -----------  ------  ----------------------------------------------...   \n",
      "1              1    2018                                                NaN   \n",
      "2              1    2018                                                NaN   \n",
      "3              1    2018                                                NaN   \n",
      "4              1    2018                                                NaN   \n",
      "..           ...     ...                                                ...   \n",
      "572            4    2017                                                NaN   \n",
      "573            4    2017                                                NaN   \n",
      "574            4    2018                                                NaN   \n",
      "575            4    2018                                                NaN   \n",
      "576         (575    rows                                          affected)   \n",
      "\n",
      "                                               GeoName  \\\n",
      "0    ----------------------------------------------...   \n",
      "1                                                  NaN   \n",
      "2                                                  NaN   \n",
      "3                                                  NaN   \n",
      "4                                                  NaN   \n",
      "..                                                 ...   \n",
      "572                                                NaN   \n",
      "573                                                NaN   \n",
      "574                                                NaN   \n",
      "575                                                NaN   \n",
      "576                                                NaN   \n",
      "\n",
      "                                          VariableType  \\\n",
      "0    ----------------------------------------------...   \n",
      "1                                               AgeSex   \n",
      "2                                               AgeSex   \n",
      "3                                               AgeSex   \n",
      "4                                               AgeSex   \n",
      "..                                                 ...   \n",
      "572                                              TREND   \n",
      "573                                              TREND   \n",
      "574                                              TREND   \n",
      "575                                              TREND   \n",
      "576                                                NaN   \n",
      "\n",
      "                                             VariableA  \\\n",
      "0    ----------------------------------------------...   \n",
      "1                                                    0   \n",
      "2                                                    0   \n",
      "3                                                    1   \n",
      "4                                                    1   \n",
      "..                                                 ...   \n",
      "572                                                  1   \n",
      "573                                                  2   \n",
      "574                                                  1   \n",
      "575                                                  2   \n",
      "576                                                NaN   \n",
      "\n",
      "                                             VariableB  \\\n",
      "0    ----------------------------------------------...   \n",
      "1                                                    1   \n",
      "2                                                    2   \n",
      "3                                                    1   \n",
      "4                                                    2   \n",
      "..                                                 ...   \n",
      "572                                                NaN   \n",
      "573                                                NaN   \n",
      "574                                                NaN   \n",
      "575                                                NaN   \n",
      "576                                                NaN   \n",
      "\n",
      "                        Value Area code Area of usual residence  ...  \\\n",
      "0    ------------------------       NaN                     NaN  ...   \n",
      "1                      1440.0       NaN                     NaN  ...   \n",
      "2                      1131.0       NaN                     NaN  ...   \n",
      "3                        91.0       NaN                     NaN  ...   \n",
      "4                        81.0       NaN                     NaN  ...   \n",
      "..                        ...       ...                     ...  ...   \n",
      "572                  262678.0       NaN                     NaN  ...   \n",
      "573                  270575.0       NaN                     NaN  ...   \n",
      "574                  267960.0       NaN                     NaN  ...   \n",
      "575                  273629.0       NaN                     NaN  ...   \n",
      "576                       NaN       NaN                     NaN  ...   \n",
      "\n",
      "    Persons\\n(Lower CL)  Persons\\n(Upper CL) Males\\n(Deaths) Males\\n(ASMR)  \\\n",
      "0                   NaN                  NaN             NaN           NaN   \n",
      "1                   NaN                  NaN             NaN           NaN   \n",
      "2                   NaN                  NaN             NaN           NaN   \n",
      "3                   NaN                  NaN             NaN           NaN   \n",
      "4                   NaN                  NaN             NaN           NaN   \n",
      "..                  ...                  ...             ...           ...   \n",
      "572                 NaN                  NaN             NaN           NaN   \n",
      "573                 NaN                  NaN             NaN           NaN   \n",
      "574                 NaN                  NaN             NaN           NaN   \n",
      "575                 NaN                  NaN             NaN           NaN   \n",
      "576                 NaN                  NaN             NaN           NaN   \n",
      "\n",
      "    Males\\n(Lower CL)  Males\\n(Upper CL) Females\\n(Deaths) Females\\n(ASMR)  \\\n",
      "0                 NaN                NaN               NaN             NaN   \n",
      "1                 NaN                NaN               NaN             NaN   \n",
      "2                 NaN                NaN               NaN             NaN   \n",
      "3                 NaN                NaN               NaN             NaN   \n",
      "4                 NaN                NaN               NaN             NaN   \n",
      "..                ...                ...               ...             ...   \n",
      "572               NaN                NaN               NaN             NaN   \n",
      "573               NaN                NaN               NaN             NaN   \n",
      "574               NaN                NaN               NaN             NaN   \n",
      "575               NaN                NaN               NaN             NaN   \n",
      "576               NaN                NaN               NaN             NaN   \n",
      "\n",
      "    Females\\n(Lower CL)  Females\\n(Upper CL)  \n",
      "0                   NaN                  NaN  \n",
      "1                   NaN                  NaN  \n",
      "2                   NaN                  NaN  \n",
      "3                   NaN                  NaN  \n",
      "4                   NaN                  NaN  \n",
      "..                  ...                  ...  \n",
      "572                 NaN                  NaN  \n",
      "573                 NaN                  NaN  \n",
      "574                 NaN                  NaN  \n",
      "575                 NaN                  NaN  \n",
      "576                 NaN                  NaN  \n",
      "\n",
      "[577 rows x 23 columns]\n"
     ]
    }
   ],
   "source": [
    "# Merge the two dataframes\n",
    "result = pd.merge(dflake, dfpub, left_on='GeoCode', right_on='Area code', how='left')\n",
    "\n",
    "print(result)"
   ]
  },
  {
   "cell_type": "code",
   "execution_count": 42,
   "metadata": {},
   "outputs": [
    {
     "name": "stdout",
     "output_type": "stream",
     "text": [
      "['Dashboard', 'Period', 'GeoCode', 'GeoName', 'VariableType', 'VariableA', 'VariableB', 'Value', 'Area code', 'Area of usual residence', 'Geography level', 'Persons\\n(Deaths)', 'Persons\\n(ASMR)', 'Persons\\n(Lower CL)', 'Persons\\n(Upper CL)', 'Males\\n(Deaths)', 'Males\\n(ASMR)', 'Males\\n(Lower CL)', 'Males\\n(Upper CL)', 'Females\\n(Deaths)', 'Females\\n(ASMR)', 'Females\\n(Lower CL)', 'Females\\n(Upper CL)']\n"
     ]
    }
   ],
   "source": [
    "variables = result.columns.tolist()\n",
    "\n",
    "print(variables)\n"
   ]
  },
  {
   "cell_type": "code",
   "execution_count": 50,
   "metadata": {},
   "outputs": [
    {
     "name": "stdout",
     "output_type": "stream",
     "text": [
      "    Dashboard Period    GeoCode GeoName VariableType VariableA VariableB  \\\n",
      "247         3   2018        NaN     NaN           LA       NaN       NaN   \n",
      "248         3   2018  E06000001     NaN           LA       NaN       NaN   \n",
      "249         3   2018  E06000002     NaN           LA       NaN       NaN   \n",
      "250         3   2018  E06000003     NaN           LA       NaN       NaN   \n",
      "251         3   2018  E06000004     NaN           LA       NaN       NaN   \n",
      "..        ...    ...        ...     ...          ...       ...       ...   \n",
      "557         3   2018  E09000029     NaN           LA       NaN       NaN   \n",
      "558         3   2018  E09000030     NaN           LA       NaN       NaN   \n",
      "559         3   2018  E09000031     NaN           LA       NaN       NaN   \n",
      "560         3   2018  E09000032     NaN           LA       NaN       NaN   \n",
      "561         3   2018  E09000033     NaN           LA       NaN       NaN   \n",
      "\n",
      "       Value  Area code Area of usual residence  ... Persons\\n(Lower CL)  \\\n",
      "247  35730.0        NaN                     NaN  ...                 NaN   \n",
      "248   1014.0  E06000001              Hartlepool  ...              1062.9   \n",
      "249   1454.0  E06000002           Middlesbrough  ...              1149.9   \n",
      "250   1594.0  E06000003    Redcar and Cleveland  ...              1042.2   \n",
      "251   1972.0  E06000004        Stockton-on-Tees  ...              1023.9   \n",
      "..       ...        ...                     ...  ...                 ...   \n",
      "557   1586.0  E09000029                  Sutton  ...               827.9   \n",
      "558   1132.0  E09000030           Tower Hamlets  ...              1025.9   \n",
      "559   1419.0  E09000031          Waltham Forest  ...               899.8   \n",
      "560   1465.0  E09000032              Wandsworth  ...               803.8   \n",
      "561   1075.0  E09000033             Westminster  ...               705.8   \n",
      "\n",
      "     Persons\\n(Upper CL) Males\\n(Deaths) Males\\n(ASMR) Males\\n(Lower CL)  \\\n",
      "247                  NaN             NaN           NaN               NaN   \n",
      "248               1199.8           504.0        1234.8            1123.5   \n",
      "249               1271.6           798.0        1459.1            1355.5   \n",
      "250               1146.1           878.0        1254.5            1169.5   \n",
      "251               1117.4          1021.0        1230.5            1153.1   \n",
      "..                   ...             ...           ...               ...   \n",
      "557                  915           770.0        1080.8            1002.9   \n",
      "558               1160.8           630.0        1341.9            1225.9   \n",
      "559                997.6           803.0        1124.8              1043   \n",
      "560                890.5           742.0        1002.2               927   \n",
      "561                798.1           580.0           939             860.1   \n",
      "\n",
      "     Males\\n(Upper CL) Females\\n(Deaths) Females\\n(ASMR) Females\\n(Lower CL)  \\\n",
      "247                NaN               NaN             NaN                 NaN   \n",
      "248               1346             560.0          1044.1               957.1   \n",
      "249             1562.7             737.0          1015.7                 942   \n",
      "250             1339.6             860.0           961.3               896.5   \n",
      "251             1307.9            1016.0             946               887.7   \n",
      "..                 ...               ...             ...                 ...   \n",
      "557             1158.8             778.0           728.5               676.8   \n",
      "558             1457.9             510.0           895.8               815.4   \n",
      "559             1206.6             726.0           806.8               747.2   \n",
      "560             1077.4             772.0           734.1               681.6   \n",
      "561             1017.9             470.0           603.8               548.8   \n",
      "\n",
      "     Females\\n(Upper CL)  \n",
      "247                  NaN  \n",
      "248               1131.1  \n",
      "249               1089.3  \n",
      "250               1026.2  \n",
      "251               1004.3  \n",
      "..                   ...  \n",
      "557                780.2  \n",
      "558                976.2  \n",
      "559                866.4  \n",
      "560                786.5  \n",
      "561                658.9  \n",
      "\n",
      "[315 rows x 23 columns]\n"
     ]
    }
   ],
   "source": [
    "# Create a sample DataFrame\n",
    "data = {'A': [1, 2, 3, 4, 5], 'B': ['a', 'b', 'c', 'd', 'e']}\n",
    "df = pd.DataFrame(result)\n",
    "\n",
    "# Apply a filter to select rows where values in column 'A' are greater than 2\n",
    "filtered_df = df[df['Dashboard'] == '3']\n",
    "\n",
    "# Print the filtered DataFrame\n",
    "print(filtered_df)"
   ]
  },
  {
   "cell_type": "code",
   "execution_count": 53,
   "metadata": {},
   "outputs": [
    {
     "name": "stdout",
     "output_type": "stream",
     "text": [
      "       GeoCode    Value  Persons\\n(Deaths)\n",
      "247        NaN  35730.0                NaN\n",
      "248  E06000001   1014.0             1064.0\n",
      "249  E06000002   1454.0             1535.0\n",
      "250  E06000003   1594.0             1738.0\n",
      "251  E06000004   1972.0             2037.0\n",
      "..         ...      ...                ...\n",
      "557  E09000029   1586.0             1548.0\n",
      "558  E09000030   1132.0             1140.0\n",
      "559  E09000031   1419.0             1529.0\n",
      "560  E09000032   1465.0             1514.0\n",
      "561  E09000033   1075.0             1050.0\n",
      "\n",
      "[315 rows x 3 columns]\n"
     ]
    }
   ],
   "source": [
    "print(filtered_df[['GeoCode', 'Value', 'Persons\\n(Deaths)']])\n"
   ]
  }
 ],
 "metadata": {
  "kernelspec": {
   "display_name": "Python 3",
   "language": "python",
   "name": "python3"
  },
  "language_info": {
   "codemirror_mode": {
    "name": "ipython",
    "version": 3
   },
   "file_extension": ".py",
   "mimetype": "text/x-python",
   "name": "python",
   "nbconvert_exporter": "python",
   "pygments_lexer": "ipython3",
   "version": "3.9.13"
  }
 },
 "nbformat": 4,
 "nbformat_minor": 2
}
